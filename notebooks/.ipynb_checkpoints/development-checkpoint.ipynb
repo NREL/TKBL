{
 "cells": [
  {
   "cell_type": "code",
   "execution_count": 1,
   "id": "82ad7089-53cf-4582-9daf-c60cf3ba2f5c",
   "metadata": {},
   "outputs": [],
   "source": [
    "import tkbl"
   ]
  },
  {
   "cell_type": "code",
   "execution_count": 2,
   "id": "d15af68c-ed3e-4c91-9b3f-5bca20919b43",
   "metadata": {},
   "outputs": [
    {
     "data": {
      "text/plain": [
       "'C:\\\\Projects\\\\TKBL-blb\\\\notebooks'"
      ]
     },
     "execution_count": 2,
     "metadata": {},
     "output_type": "execute_result"
    }
   ],
   "source": [
    "pwd"
   ]
  },
  {
   "cell_type": "code",
   "execution_count": 3,
   "id": "f338268e-e919-4c97-b358-1fbfb7518819",
   "metadata": {},
   "outputs": [
    {
     "name": "stdout",
     "output_type": "stream",
     "text": [
      "[\n",
      "    {\n",
      "        \"category\": \"Doors and Windows\",\n",
      "        \"subcategory\": \"Storm Windows\",\n",
      "        \"uniformat code\": \"B202001\",\n",
      "        \"uniformat description\": \"WINDOWS\",\n",
      "        \"url\": \"<a href='https://sftool.gov/greenprocurement/green-products/26/doors-windows/1827/storm-windows/0?addon=False'>https://sftool.gov/greenprocurement/green-products/26/doors-windows/1827/storm-windows/0?addon=False</a>\",\n",
      "        \"title\": \"\"\n",
      "    },\n",
      "    {\n",
      "        \"category\": \"Doors and Windows\",\n",
      "        \"subcategory\": \"Window, High R Value\",\n",
      "        \"uniformat code\": \"B202001\",\n",
      "        \"uniformat description\": \"WINDOWS\",\n",
      "        \"url\": \"<a href='https://sftool.gov/greenprocurement/green-products/26/doors-windows/1578/window-high-r/0?addon=False'>https://sftool.gov/greenprocurement/green-products/26/doors-windows/1578/window-high-r/0?addon=False</a>\",\n",
      "        \"title\": \"\"\n",
      "    },\n",
      "    {\n",
      "        \"category\": \"Doors and Windows\",\n",
      "        \"subcategory\": \"Windows\",\n",
      "        \"uniformat code\": \"B202001\",\n",
      "        \"uniformat description\": \"WINDOWS\",\n",
      "        \"url\": \"<a href='https://sftool.gov/greenprocurement/green-products/26/doors-windows/272/windows/0?addon=False'>https://sftool.gov/greenprocurement/green-products/26/doors-windows/272/windows/0?addon=False</a>\",\n",
      "        \"title\": \"\"\n",
      "    }\n",
      "]\n"
     ]
    }
   ],
   "source": [
    "# Test the function with the corrected 'uniformat code'\n",
    "corrected_uniformat_code = 'B202001'\n",
    "# Re-run the function with the corrected 'uniformat code'\n",
    "corrected_result_readable = tkbl.filter_by_uniformat_code(corrected_uniformat_code)\n",
    "print(corrected_result_readable)"
   ]
  },
  {
   "cell_type": "code",
   "execution_count": null,
   "id": "fe9f83d4-1cee-4b3c-a513-784b095e9d9e",
   "metadata": {},
   "outputs": [],
   "source": []
  },
  {
   "cell_type": "code",
   "execution_count": 1,
   "id": "b3d821ca-f3e8-444d-aa2f-a6a1c39cafaf",
   "metadata": {},
   "outputs": [],
   "source": [
    "import pandas as pd\n",
    "import json\n",
    "\n",
    "# Load the CSV file into a DataFrame\n",
    "df_SFTool = pd.read_csv('SFTool_uniformat.csv')\n",
    "df_ESTCP = pd.read_csv('ESTCP_uniformat.csv')"
   ]
  },
  {
   "cell_type": "code",
   "execution_count": 2,
   "id": "44125fea-7612-45c4-bb85-5807f95930d1",
   "metadata": {},
   "outputs": [],
   "source": [
    "# Merge the two DataFrames into one, replacing NaN values with an empty string\n",
    "df = pd.concat([df_SFTool, df_ESTCP], ignore_index=True).fillna('')\n"
   ]
  },
  {
   "cell_type": "code",
   "execution_count": 3,
   "id": "62b1768e-5430-457e-8424-b1e833218f6b",
   "metadata": {},
   "outputs": [],
   "source": [
    "def filter_by_uniformat_code(uniformat_code):\n",
    "    try:\n",
    "        # Ensure the input is a string and strip whitespace\n",
    "        uniformat_code = str(uniformat_code).strip()\n",
    "        \n",
    "        # Check if 'uniformat code' column exists\n",
    "        if 'uniformat code' not in df.columns:\n",
    "            return json.dumps({\"error\": \"Column 'uniformat code' not found in DataFrame.\"}, indent=4)\n",
    "        \n",
    "        # Strip whitespace from 'uniformat code' column for accurate comparison\n",
    "        df['uniformat code'] = df['uniformat code'].str.strip()\n",
    "        \n",
    "        # Filter the DataFrame where 'uniformat code' column matches the input value\n",
    "        filtered_df = df[df['uniformat code'] == uniformat_code].copy()\n",
    "        \n",
    "        # Update URLs in the DataFrame to be clickable links using .loc to avoid the warning\n",
    "        filtered_df.loc[:, 'url'] = filtered_df['url'].apply(lambda x: f\"<a href='{x}'>{x}</a>\")\n",
    "        \n",
    "        # Convert the filtered DataFrame to JSON with indentation for better readability\n",
    "        result_json = json.loads(filtered_df.to_json(orient='records'))\n",
    "        result_pretty_json = json.dumps(result_json, indent=4)\n",
    "        \n",
    "        return result_pretty_json\n",
    "    except Exception as e:\n",
    "        return json.dumps({\"error\": str(e)}, indent=4)"
   ]
  },
  {
   "cell_type": "code",
   "execution_count": null,
   "id": "972350d7-59a8-413a-ac7e-1a4f23dbe185",
   "metadata": {},
   "outputs": [],
   "source": []
  },
  {
   "cell_type": "code",
   "execution_count": 3,
   "id": "f04ba3d5-fd8c-473d-b70c-3e9e89a9508e",
   "metadata": {},
   "outputs": [],
   "source": [
    "#look up entries that match uniformat code\n",
    "def filter_by_uniformat_code_readable(uniformat_code):\n",
    "    # Strip whitespace from 'uniformat code' column for accurate comparison\n",
    "    df['uniformat code'] = df['uniformat code'].str.strip()\n",
    "    # Filter the DataFrame where 'uniformat code' column matches the input value\n",
    "    filtered_df = df[df['uniformat code'] == uniformat_code.strip()].copy()  # Make a copy to avoid the warning\n",
    "    \n",
    "    # Update URLs in the DataFrame to be clickable links using .loc to avoid the warning\n",
    "    filtered_df.loc[:, 'url'] = filtered_df['url'].apply(lambda x: f\"<a href='{x}'>{x}</a>\")\n",
    "    \n",
    "    # Convert the filtered DataFrame to JSON with indentation for better readability\n",
    "    result_json = json.loads(filtered_df.to_json(orient='records'))\n",
    "    result_pretty_json = json.dumps(result_json, indent=4)\n",
    "    \n",
    "    return result_pretty_json"
   ]
  },
  {
   "cell_type": "code",
   "execution_count": 4,
   "id": "8026e23e-6006-46ef-b6fa-04865f064a91",
   "metadata": {},
   "outputs": [
    {
     "name": "stdout",
     "output_type": "stream",
     "text": [
      "[\n",
      "    {\n",
      "        \"category\": \"Doors and Windows\",\n",
      "        \"subcategory\": \"Storm Windows\",\n",
      "        \"uniformat code\": \"B202001\",\n",
      "        \"uniformat description\": \"WINDOWS\",\n",
      "        \"url\": \"<a href='https://sftool.gov/greenprocurement/green-products/26/doors-windows/1827/storm-windows/0?addon=False'>https://sftool.gov/greenprocurement/green-products/26/doors-windows/1827/storm-windows/0?addon=False</a>\",\n",
      "        \"title\": \"\"\n",
      "    },\n",
      "    {\n",
      "        \"category\": \"Doors and Windows\",\n",
      "        \"subcategory\": \"Window, High R Value\",\n",
      "        \"uniformat code\": \"B202001\",\n",
      "        \"uniformat description\": \"WINDOWS\",\n",
      "        \"url\": \"<a href='https://sftool.gov/greenprocurement/green-products/26/doors-windows/1578/window-high-r/0?addon=False'>https://sftool.gov/greenprocurement/green-products/26/doors-windows/1578/window-high-r/0?addon=False</a>\",\n",
      "        \"title\": \"\"\n",
      "    },\n",
      "    {\n",
      "        \"category\": \"Doors and Windows\",\n",
      "        \"subcategory\": \"Windows\",\n",
      "        \"uniformat code\": \"B202001\",\n",
      "        \"uniformat description\": \"WINDOWS\",\n",
      "        \"url\": \"<a href='https://sftool.gov/greenprocurement/green-products/26/doors-windows/272/windows/0?addon=False'>https://sftool.gov/greenprocurement/green-products/26/doors-windows/272/windows/0?addon=False</a>\",\n",
      "        \"title\": \"\"\n",
      "    }\n",
      "]\n"
     ]
    }
   ],
   "source": [
    "# Test the function with the corrected 'uniformat code'\n",
    "corrected_uniformat_code = 'B202001'\n",
    "# Re-run the function with the corrected 'uniformat code'\n",
    "corrected_result_readable = filter_by_uniformat_code(corrected_uniformat_code)\n",
    "print(corrected_result_readable)"
   ]
  },
  {
   "cell_type": "code",
   "execution_count": 5,
   "id": "6d080d4f-f105-478e-bd00-c760b4f9af1c",
   "metadata": {},
   "outputs": [
    {
     "name": "stdout",
     "output_type": "stream",
     "text": [
      "[\n",
      "    {\n",
      "        \"category\": \"ESTCP\",\n",
      "        \"subcategory\": \"\",\n",
      "        \"uniformat code\": \"D301006\",\n",
      "        \"uniformat description\": \"WIND ENERGY SUPPLY SYSTEM\",\n",
      "        \"url\": \"<a href='https://serdp-estcp.mil/projects/details/b0d58952-c887-4de4-baeb-338638e5a22b'>https://serdp-estcp.mil/projects/details/b0d58952-c887-4de4-baeb-338638e5a22b</a>\",\n",
      "        \"title\": \"Middleware Solution for Standardization and Analysis of Disparate Facility Infrastructure\"\n",
      "    },\n",
      "    {\n",
      "        \"category\": \"ESTCP\",\n",
      "        \"subcategory\": \"\",\n",
      "        \"uniformat code\": \"D301006\",\n",
      "        \"uniformat description\": \"WIND ENERGY SUPPLY SYSTEM\",\n",
      "        \"url\": \"<a href='https://serdp-estcp.mil/projects/details/faccea92-8a9b-4dab-9051-f6d91ef6e28e'>https://serdp-estcp.mil/projects/details/faccea92-8a9b-4dab-9051-f6d91ef6e28e</a>\",\n",
      "        \"title\": \"Validating the Cimetrics Analytika HVAC Commissioning Platform\"\n",
      "    },\n",
      "    {\n",
      "        \"category\": \"ESTCP\",\n",
      "        \"subcategory\": \"\",\n",
      "        \"uniformat code\": \"D301006\",\n",
      "        \"uniformat description\": \"WIND ENERGY SUPPLY SYSTEM\",\n",
      "        \"url\": \"<a href='https://serdp-estcp.mil/projects/details/0ac40589-c25a-46f7-88d6-a755087ab0bb'>https://serdp-estcp.mil/projects/details/0ac40589-c25a-46f7-88d6-a755087ab0bb</a>\",\n",
      "        \"title\": \"Navigator Cloud-Based Predictive Analytics\"\n",
      "    },\n",
      "    {\n",
      "        \"category\": \"ESTCP\",\n",
      "        \"subcategory\": \"\",\n",
      "        \"uniformat code\": \"D301006\",\n",
      "        \"uniformat description\": \"WIND ENERGY SUPPLY SYSTEM\",\n",
      "        \"url\": \"<a href='https://serdp-estcp.mil/projects/details/8a08337f-5ede-451d-a16e-90c039d6a40a'>https://serdp-estcp.mil/projects/details/8a08337f-5ede-451d-a16e-90c039d6a40a</a>\",\n",
      "        \"title\": \"Fault Detection & Diagnostics (FDD) Demonstration at DoD Facilities\"\n",
      "    },\n",
      "    {\n",
      "        \"category\": \"ESTCP\",\n",
      "        \"subcategory\": \"\",\n",
      "        \"uniformat code\": \"D301006\",\n",
      "        \"uniformat description\": \"WIND ENERGY SUPPLY SYSTEM\",\n",
      "        \"url\": \"<a href='https://serdp-estcp.mil/projects/details/518e4d87-3ffc-4f49-a0bc-9ee556e1d1bd'>https://serdp-estcp.mil/projects/details/518e4d87-3ffc-4f49-a0bc-9ee556e1d1bd</a>\",\n",
      "        \"title\": \"Optimizing Facility Operations by Applying Machine Learning to the Army Reserve Enterprise Building Control System\"\n",
      "    },\n",
      "    {\n",
      "        \"category\": \"ESTCP\",\n",
      "        \"subcategory\": \"\",\n",
      "        \"uniformat code\": \"D301006\",\n",
      "        \"uniformat description\": \"WIND ENERGY SUPPLY SYSTEM\",\n",
      "        \"url\": \"<a href='https://serdp-estcp.mil/projects/details/4bbf4ff7-a112-455e-bb59-e90820bfc547'>https://serdp-estcp.mil/projects/details/4bbf4ff7-a112-455e-bb59-e90820bfc547</a>\",\n",
      "        \"title\": \"Better Buildings, Smaller Bootprint \\u2013 Smart Building Program for DoD\"\n",
      "    }\n",
      "]\n"
     ]
    }
   ],
   "source": [
    "# Test the function with the corrected 'uniformat code'\n",
    "corrected_uniformat_code = 'D301006'\n",
    "# Re-run the function with the corrected 'uniformat code'\n",
    "corrected_result_readable = filter_by_uniformat_code(corrected_uniformat_code)\n",
    "print(corrected_result_readable)"
   ]
  },
  {
   "cell_type": "code",
   "execution_count": 6,
   "id": "4db264b3-b9b0-4a64-a12f-2fcb9e9340ab",
   "metadata": {},
   "outputs": [
    {
     "name": "stdout",
     "output_type": "stream",
     "text": [
      "[]\n"
     ]
    }
   ],
   "source": [
    "# Test the function with the corrected 'uniformat code'\n",
    "corrected_uniformat_code = 'D37777'\n",
    "# Re-run the function with the corrected 'uniformat code'\n",
    "corrected_result_readable = filter_by_uniformat_code(corrected_uniformat_code)\n",
    "print(corrected_result_readable)"
   ]
  },
  {
   "cell_type": "code",
   "execution_count": null,
   "id": "71ff52e1-e0fe-4298-8088-81297a025164",
   "metadata": {},
   "outputs": [],
   "source": []
  }
 ],
 "metadata": {
  "kernelspec": {
   "display_name": "Python 3 (ipykernel)",
   "language": "python",
   "name": "python3"
  },
  "language_info": {
   "codemirror_mode": {
    "name": "ipython",
    "version": 3
   },
   "file_extension": ".py",
   "mimetype": "text/x-python",
   "name": "python",
   "nbconvert_exporter": "python",
   "pygments_lexer": "ipython3",
   "version": "3.10.10"
  }
 },
 "nbformat": 4,
 "nbformat_minor": 5
}
