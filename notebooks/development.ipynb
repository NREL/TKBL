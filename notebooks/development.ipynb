{
 "cells": [
  {
   "cell_type": "code",
   "execution_count": 1,
   "id": "82ad7089-53cf-4582-9daf-c60cf3ba2f5c",
   "metadata": {},
   "outputs": [],
   "source": [
    "import tkbl"
   ]
  },
  {
   "cell_type": "code",
   "execution_count": 2,
   "id": "d15af68c-ed3e-4c91-9b3f-5bca20919b43",
   "metadata": {},
   "outputs": [
    {
     "data": {
      "text/plain": [
       "'C:\\\\Projects\\\\TKBL-blb\\\\notebooks'"
      ]
     },
     "execution_count": 2,
     "metadata": {},
     "output_type": "execute_result"
    }
   ],
   "source": [
    "pwd"
   ]
  },
  {
   "cell_type": "code",
   "execution_count": 3,
   "id": "f338268e-e919-4c97-b358-1fbfb7518819",
   "metadata": {},
   "outputs": [
    {
     "name": "stdout",
     "output_type": "stream",
     "text": [
      "[\n",
      "    {\n",
      "        \"category\": \"Doors and Windows\",\n",
      "        \"subcategory\": \"Storm Windows\",\n",
      "        \"uniformat code\": \"B202001\",\n",
      "        \"uniformat description\": \"WINDOWS\",\n",
      "        \"url\": \"<a href='https://sftool.gov/greenprocurement/green-products/26/doors-windows/1827/storm-windows/0?addon=False'>https://sftool.gov/greenprocurement/green-products/26/doors-windows/1827/storm-windows/0?addon=False</a>\",\n",
      "        \"title\": \"\"\n",
      "    },\n",
      "    {\n",
      "        \"category\": \"Doors and Windows\",\n",
      "        \"subcategory\": \"Window, High R Value\",\n",
      "        \"uniformat code\": \"B202001\",\n",
      "        \"uniformat description\": \"WINDOWS\",\n",
      "        \"url\": \"<a href='https://sftool.gov/greenprocurement/green-products/26/doors-windows/1578/window-high-r/0?addon=False'>https://sftool.gov/greenprocurement/green-products/26/doors-windows/1578/window-high-r/0?addon=False</a>\",\n",
      "        \"title\": \"\"\n",
      "    },\n",
      "    {\n",
      "        \"category\": \"Doors and Windows\",\n",
      "        \"subcategory\": \"Windows\",\n",
      "        \"uniformat code\": \"B202001\",\n",
      "        \"uniformat description\": \"WINDOWS\",\n",
      "        \"url\": \"<a href='https://sftool.gov/greenprocurement/green-products/26/doors-windows/272/windows/0?addon=False'>https://sftool.gov/greenprocurement/green-products/26/doors-windows/272/windows/0?addon=False</a>\",\n",
      "        \"title\": \"\"\n",
      "    }\n",
      "]\n"
     ]
    }
   ],
   "source": [
    "# Test the function with the corrected 'uniformat code'\n",
    "corrected_uniformat_code = 'B202001'\n",
    "# Re-run the function with the corrected 'uniformat code'\n",
    "corrected_result_readable = tkbl.filter_by_uniformat_code(corrected_uniformat_code)\n",
    "print(corrected_result_readable)"
   ]
  },
  {
   "cell_type": "code",
   "execution_count": null,
   "id": "fe9f83d4-1cee-4b3c-a513-784b095e9d9e",
   "metadata": {},
   "outputs": [],
   "source": []
  },
  {
   "cell_type": "code",
   "execution_count": 1,
   "id": "b3d821ca-f3e8-444d-aa2f-a6a1c39cafaf",
   "metadata": {},
   "outputs": [],
   "source": [
    "import pandas as pd\n",
    "import json\n",
    "\n",
    "# Load the CSV file into a DataFrame\n",
    "df_SFTool = pd.read_csv('SFTool_uniformat.csv')\n",
    "df_ESTCP = pd.read_csv('ESTCP_uniformat.csv')"
   ]
  },
  {
   "cell_type": "code",
   "execution_count": 2,
   "id": "44125fea-7612-45c4-bb85-5807f95930d1",
   "metadata": {},
   "outputs": [],
   "source": [
    "# Merge the two DataFrames into one, replacing NaN values with an empty string\n",
    "df = pd.concat([df_SFTool, df_ESTCP], ignore_index=True).fillna('')\n"
   ]
  },
  {
   "cell_type": "code",
   "execution_count": 3,
   "id": "62b1768e-5430-457e-8424-b1e833218f6b",
   "metadata": {},
   "outputs": [],
   "source": [
    "def filter_by_uniformat_code(uniformat_code):\n",
    "    try:\n",
    "        # Ensure the input is a string and strip whitespace\n",
    "        uniformat_code = str(uniformat_code).strip()\n",
    "        \n",
    "        # Check if 'uniformat code' column exists\n",
    "        if 'uniformat code' not in df.columns:\n",
    "            return json.dumps({\"error\": \"Column 'uniformat code' not found in DataFrame.\"}, indent=4)\n",
    "        \n",
    "        # Strip whitespace from 'uniformat code' column for accurate comparison\n",
    "        df['uniformat code'] = df['uniformat code'].str.strip()\n",
    "        \n",
    "        # Filter the DataFrame where 'uniformat code' column matches the input value\n",
    "        filtered_df = df[df['uniformat code'] == uniformat_code].copy()\n",
    "        \n",
    "        # Update URLs in the DataFrame to be clickable links using .loc to avoid the warning\n",
    "        filtered_df.loc[:, 'url'] = filtered_df['url'].apply(lambda x: f\"<a href='{x}'>{x}</a>\")\n",
    "        \n",
    "        # Convert the filtered DataFrame to JSON with indentation for better readability\n",
    "        result_json = json.loads(filtered_df.to_json(orient='records'))\n",
    "        result_pretty_json = json.dumps(result_json, indent=4)\n",
    "        \n",
    "        return result_pretty_json\n",
    "    except Exception as e:\n",
    "        return json.dumps({\"error\": str(e)}, indent=4)"
   ]
  },
  {
   "cell_type": "code",
   "execution_count": null,
   "id": "972350d7-59a8-413a-ac7e-1a4f23dbe185",
   "metadata": {},
   "outputs": [],
   "source": []
  },
  {
   "cell_type": "code",
   "execution_count": 3,
   "id": "f04ba3d5-fd8c-473d-b70c-3e9e89a9508e",
   "metadata": {},
   "outputs": [],
   "source": [
    "#look up entries that match uniformat code\n",
    "def filter_by_uniformat_code_readable(uniformat_code):\n",
    "    # Strip whitespace from 'uniformat code' column for accurate comparison\n",
    "    df['uniformat code'] = df['uniformat code'].str.strip()\n",
    "    # Filter the DataFrame where 'uniformat code' column matches the input value\n",
    "    filtered_df = df[df['uniformat code'] == uniformat_code.strip()].copy()  # Make a copy to avoid the warning\n",
    "    \n",
    "    # Update URLs in the DataFrame to be clickable links using .loc to avoid the warning\n",
    "    filtered_df.loc[:, 'url'] = filtered_df['url'].apply(lambda x: f\"<a href='{x}'>{x}</a>\")\n",
    "    \n",
    "    # Convert the filtered DataFrame to JSON with indentation for better readability\n",
    "    result_json = json.loads(filtered_df.to_json(orient='records'))\n",
    "    result_pretty_json = json.dumps(result_json, indent=4)\n",
    "    \n",
    "    return result_pretty_json"
   ]
  },
  {
   "cell_type": "code",
   "execution_count": 4,
   "id": "8026e23e-6006-46ef-b6fa-04865f064a91",
   "metadata": {},
   "outputs": [
    {
     "name": "stdout",
     "output_type": "stream",
     "text": [
      "[\n",
      "    {\n",
      "        \"category\": \"Doors and Windows\",\n",
      "        \"subcategory\": \"Storm Windows\",\n",
      "        \"uniformat code\": \"B202001\",\n",
      "        \"uniformat description\": \"WINDOWS\",\n",
      "        \"url\": \"<a href='https://sftool.gov/greenprocurement/green-products/26/doors-windows/1827/storm-windows/0?addon=False'>https://sftool.gov/greenprocurement/green-products/26/doors-windows/1827/storm-windows/0?addon=False</a>\",\n",
      "        \"title\": \"\"\n",
      "    },\n",
      "    {\n",
      "        \"category\": \"Doors and Windows\",\n",
      "        \"subcategory\": \"Window, High R Value\",\n",
      "        \"uniformat code\": \"B202001\",\n",
      "        \"uniformat description\": \"WINDOWS\",\n",
      "        \"url\": \"<a href='https://sftool.gov/greenprocurement/green-products/26/doors-windows/1578/window-high-r/0?addon=False'>https://sftool.gov/greenprocurement/green-products/26/doors-windows/1578/window-high-r/0?addon=False</a>\",\n",
      "        \"title\": \"\"\n",
      "    },\n",
      "    {\n",
      "        \"category\": \"Doors and Windows\",\n",
      "        \"subcategory\": \"Windows\",\n",
      "        \"uniformat code\": \"B202001\",\n",
      "        \"uniformat description\": \"WINDOWS\",\n",
      "        \"url\": \"<a href='https://sftool.gov/greenprocurement/green-products/26/doors-windows/272/windows/0?addon=False'>https://sftool.gov/greenprocurement/green-products/26/doors-windows/272/windows/0?addon=False</a>\",\n",
      "        \"title\": \"\"\n",
      "    }\n",
      "]\n"
     ]
    }
   ],
   "source": [
    "# Test the function with the corrected 'uniformat code'\n",
    "corrected_uniformat_code = 'B202001'\n",
    "# Re-run the function with the corrected 'uniformat code'\n",
    "corrected_result_readable = filter_by_uniformat_code(corrected_uniformat_code)\n",
    "print(corrected_result_readable)"
   ]
  },
  {
   "cell_type": "code",
   "execution_count": 5,
   "id": "6d080d4f-f105-478e-bd00-c760b4f9af1c",
   "metadata": {},
   "outputs": [
    {
     "name": "stdout",
     "output_type": "stream",
     "text": [
      "[\n",
      "    {\n",
      "        \"category\": \"ESTCP\",\n",
      "        \"subcategory\": \"\",\n",
      "        \"uniformat code\": \"D301006\",\n",
      "        \"uniformat description\": \"WIND ENERGY SUPPLY SYSTEM\",\n",
      "        \"url\": \"<a href='https://serdp-estcp.mil/projects/details/b0d58952-c887-4de4-baeb-338638e5a22b'>https://serdp-estcp.mil/projects/details/b0d58952-c887-4de4-baeb-338638e5a22b</a>\",\n",
      "        \"title\": \"Middleware Solution for Standardization and Analysis of Disparate Facility Infrastructure\"\n",
      "    },\n",
      "    {\n",
      "        \"category\": \"ESTCP\",\n",
      "        \"subcategory\": \"\",\n",
      "        \"uniformat code\": \"D301006\",\n",
      "        \"uniformat description\": \"WIND ENERGY SUPPLY SYSTEM\",\n",
      "        \"url\": \"<a href='https://serdp-estcp.mil/projects/details/faccea92-8a9b-4dab-9051-f6d91ef6e28e'>https://serdp-estcp.mil/projects/details/faccea92-8a9b-4dab-9051-f6d91ef6e28e</a>\",\n",
      "        \"title\": \"Validating the Cimetrics Analytika HVAC Commissioning Platform\"\n",
      "    },\n",
      "    {\n",
      "        \"category\": \"ESTCP\",\n",
      "        \"subcategory\": \"\",\n",
      "        \"uniformat code\": \"D301006\",\n",
      "        \"uniformat description\": \"WIND ENERGY SUPPLY SYSTEM\",\n",
      "        \"url\": \"<a href='https://serdp-estcp.mil/projects/details/0ac40589-c25a-46f7-88d6-a755087ab0bb'>https://serdp-estcp.mil/projects/details/0ac40589-c25a-46f7-88d6-a755087ab0bb</a>\",\n",
      "        \"title\": \"Navigator Cloud-Based Predictive Analytics\"\n",
      "    },\n",
      "    {\n",
      "        \"category\": \"ESTCP\",\n",
      "        \"subcategory\": \"\",\n",
      "        \"uniformat code\": \"D301006\",\n",
      "        \"uniformat description\": \"WIND ENERGY SUPPLY SYSTEM\",\n",
      "        \"url\": \"<a href='https://serdp-estcp.mil/projects/details/8a08337f-5ede-451d-a16e-90c039d6a40a'>https://serdp-estcp.mil/projects/details/8a08337f-5ede-451d-a16e-90c039d6a40a</a>\",\n",
      "        \"title\": \"Fault Detection & Diagnostics (FDD) Demonstration at DoD Facilities\"\n",
      "    },\n",
      "    {\n",
      "        \"category\": \"ESTCP\",\n",
      "        \"subcategory\": \"\",\n",
      "        \"uniformat code\": \"D301006\",\n",
      "        \"uniformat description\": \"WIND ENERGY SUPPLY SYSTEM\",\n",
      "        \"url\": \"<a href='https://serdp-estcp.mil/projects/details/518e4d87-3ffc-4f49-a0bc-9ee556e1d1bd'>https://serdp-estcp.mil/projects/details/518e4d87-3ffc-4f49-a0bc-9ee556e1d1bd</a>\",\n",
      "        \"title\": \"Optimizing Facility Operations by Applying Machine Learning to the Army Reserve Enterprise Building Control System\"\n",
      "    },\n",
      "    {\n",
      "        \"category\": \"ESTCP\",\n",
      "        \"subcategory\": \"\",\n",
      "        \"uniformat code\": \"D301006\",\n",
      "        \"uniformat description\": \"WIND ENERGY SUPPLY SYSTEM\",\n",
      "        \"url\": \"<a href='https://serdp-estcp.mil/projects/details/4bbf4ff7-a112-455e-bb59-e90820bfc547'>https://serdp-estcp.mil/projects/details/4bbf4ff7-a112-455e-bb59-e90820bfc547</a>\",\n",
      "        \"title\": \"Better Buildings, Smaller Bootprint \\u2013 Smart Building Program for DoD\"\n",
      "    }\n",
      "]\n"
     ]
    }
   ],
   "source": [
    "# Test the function with the corrected 'uniformat code'\n",
    "corrected_uniformat_code = 'D301006'\n",
    "# Re-run the function with the corrected 'uniformat code'\n",
    "corrected_result_readable = filter_by_uniformat_code(corrected_uniformat_code)\n",
    "print(corrected_result_readable)"
   ]
  },
  {
   "cell_type": "code",
   "execution_count": 6,
   "id": "4db264b3-b9b0-4a64-a12f-2fcb9e9340ab",
   "metadata": {},
   "outputs": [
    {
     "name": "stdout",
     "output_type": "stream",
     "text": [
      "[]\n"
     ]
    }
   ],
   "source": [
    "# Test the function with the corrected 'uniformat code'\n",
    "corrected_uniformat_code = 'D37777'\n",
    "# Re-run the function with the corrected 'uniformat code'\n",
    "corrected_result_readable = filter_by_uniformat_code(corrected_uniformat_code)\n",
    "print(corrected_result_readable)"
   ]
  },
  {
   "cell_type": "code",
   "execution_count": 12,
   "id": "71ff52e1-e0fe-4298-8088-81297a025164",
   "metadata": {},
   "outputs": [],
   "source": [
    "import pandas as pd\n",
    "import json\n",
    "import os\n",
    "\n",
    "# Path to the data directory\n",
    "#data_dir = os.path.join(os.path.dirname(__file__), '..', 'data')\n",
    "data_dir = os.path.join('../tkbl/data')\n",
    "\n",
    "# Load the CSV files into DataFrames\n",
    "df_SFTool = pd.read_csv(os.path.join(data_dir, 'SFTool_uniformat.csv'))\n",
    "df_ESTCP = pd.read_csv(os.path.join(data_dir, 'ESTCP_uniformat.csv'))\n",
    "df_BSYNC = pd.read_csv(os.path.join(data_dir, 'building-sync-eem.csv'))\n",
    "#df_BPS_A1 = pd.read_csv(os.path.join(data_dir, 'Table_A1_Federal_BPS.csv'))\n",
    "#df_BPS_A2 = pd.read_csv(os.path.join(data_dir, 'Table_A2_Federal_BPS.csv'))\n",
    "\n",
    "# Merge the two DataFrames into one, replacing NaN values with an empty string\n",
    "df = pd.concat([df_SFTool, df_ESTCP], ignore_index=True).fillna('')\n",
    "\n",
    "def bsync_by_uniformat_code(uniformat_code):\n",
    "    \"\"\"\n",
    "    Looks up rows in the DataFrame df that match the given uniformat_code.\n",
    "    For a 6-digit uniformat_code, it uses only the letter and the first 4 digits for matching.\n",
    "\n",
    "    Parameters:\n",
    "    - uniformat_code (str): The uniformat code to look up.\n",
    "    - df (pd.DataFrame): The DataFrame to search in.\n",
    "\n",
    "    Returns:\n",
    "    - list[dict]: An array of dictionaries, each representing a matching row in JSON format.\n",
    "    \"\"\"\n",
    "    # Adjust the uniformat_code for 6 digits to use only the letter and the first 4 digits\n",
    "    if len(uniformat_code) <= 5:\n",
    "        # Filter the DataFrame for rows that match the uniformat_code\n",
    "        matching_rows = df_BSYNC[df_BSYNC['uni_code_manual'].fillna('').str.startswith(uniformat_code)]\n",
    "    else:\n",
    "        # Filter the DataFrame for rows that match the uniformat_code\n",
    "        matching_rows = df_BSYNC[df_BSYNC['lvl4_uni_code'].fillna('').str.startswith(uniformat_code)]\n",
    "\n",
    "    # Convert matching rows to a list of dictionaries (JSON format)\n",
    "    return matching_rows.to_dict('records')\n",
    "\n",
    "def bps_a1_by_uniformat_code(uniformat_code):\n",
    "   \"\"\"\n",
    "    Filters a DataFrame for entries matching a specific UniFormat code.\n",
    "\n",
    "    This function takes a UniFormat code as input, validates its presence in the DataFrame,\n",
    "    and returns a JSON string containing all records from the DataFrame where the 'preexisting-uniformat'\n",
    "    column matches the provided UniFormat code. The output JSON is formatted with indentation for readability.\n",
    "\n",
    "    Parameters:\n",
    "    uniformat_code (str): The UniFormat code to filter the DataFrame by.\n",
    "\n",
    "    Returns:\n",
    "    str: A JSON formatted string containing the filtered records. If the specified column\n",
    "    is not found, or if any other error occurs, it returns a JSON string with an error message.\n",
    "    \"\"\"\n",
    "    try:\n",
    "        # Ensure the input is a string and strip whitespace\n",
    "        uniformat_code = str(uniformat_code).strip()\n",
    "        print(\"uniformat_code:\", uniformat_code)\n",
    "        # Check if 'preexisting-uniformat' column exists\n",
    "        if 'preexisting-uniformat' not in df_BPS_A1.columns:\n",
    "            return json.dumps({\"error\": \"Column 'uniformat code' not found in DataFrame.\"}, indent=4)\n",
    "        \n",
    "        # Strip whitespace from 'uniformat code' column for accurate comparison\n",
    "        df_BPS_A1['preexisting-uniformat'] = df_BPS_A1['preexisting-uniformat'].str.strip()\n",
    "        \n",
    "        # Filter the DataFrame where 'uniformat code' column matches the input value\n",
    "        filtered_df = df_BPS_A1[df_BPS_A1['preexisting-uniformat'] == uniformat_code].copy()\n",
    "        \n",
    "        # Convert the filtered DataFrame to JSON with indentation for better readability\n",
    "        result_json = json.loads(filtered_df.to_json(orient='records'))\n",
    "        result_pretty_json = json.dumps(result_json, indent=4)\n",
    "        \n",
    "        return result_pretty_json\n",
    "    except Exception as e:\n",
    "        return json.dumps({\"error\": str(e)}, indent=4)   "
   ]
  },
  {
   "cell_type": "code",
   "execution_count": 13,
   "id": "6cb64172-c789-4cff-a32f-6cfa37c07f22",
   "metadata": {},
   "outputs": [],
   "source": [
    "df_BPS_A1 = pd.read_csv(os.path.join(data_dir, 'Table_A1_Federal_BPS.csv'), encoding='ISO-8859-1')"
   ]
  },
  {
   "cell_type": "code",
   "execution_count": 14,
   "id": "ddbffc69-be40-4f86-ae4b-cddcc703234d",
   "metadata": {},
   "outputs": [
    {
     "data": {
      "text/html": [
       "<div>\n",
       "<style scoped>\n",
       "    .dataframe tbody tr th:only-of-type {\n",
       "        vertical-align: middle;\n",
       "    }\n",
       "\n",
       "    .dataframe tbody tr th {\n",
       "        vertical-align: top;\n",
       "    }\n",
       "\n",
       "    .dataframe thead th {\n",
       "        text-align: right;\n",
       "    }\n",
       "</style>\n",
       "<table border=\"1\" class=\"dataframe\">\n",
       "  <thead>\n",
       "    <tr style=\"text-align: right;\">\n",
       "      <th></th>\n",
       "      <th>Pre-existing System</th>\n",
       "      <th>preexisting-uniformat</th>\n",
       "      <th>Federal BPS Prescriptive Measures</th>\n",
       "      <th>prescriptive-uniformat</th>\n",
       "      <th>Considerations</th>\n",
       "    </tr>\n",
       "  </thead>\n",
       "  <tbody>\n",
       "    <tr>\n",
       "      <th>0</th>\n",
       "      <td>Gas-fired packaged rooftop unit (RTU)</td>\n",
       "      <td>D305006</td>\n",
       "      <td>Replace gas-fired packaged RTU systems with ai...</td>\n",
       "      <td>D303002</td>\n",
       "      <td>Some heat pump models report heating capacity ...</td>\n",
       "    </tr>\n",
       "    <tr>\n",
       "      <th>1</th>\n",
       "      <td>Gas furnaces</td>\n",
       "      <td>D302002</td>\n",
       "      <td>Replace split-system ACs and gas furnaces with...</td>\n",
       "      <td>D303002</td>\n",
       "      <td>Split-system heat pumps are available for bot...</td>\n",
       "    </tr>\n",
       "    <tr>\n",
       "      <th>2</th>\n",
       "      <td>Low temperature boilers (110F to 140F), Medium...</td>\n",
       "      <td>D302001</td>\n",
       "      <td>Conversion to air-to-water and water-to-water ...</td>\n",
       "      <td>D303002</td>\n",
       "      <td>Comparisons of size, weight, and installation ...</td>\n",
       "    </tr>\n",
       "    <tr>\n",
       "      <th>3</th>\n",
       "      <td>Air Handling Units (AHUs) with reheat or perim...</td>\n",
       "      <td>D304008</td>\n",
       "      <td>Assess current heating source within AHU or va...</td>\n",
       "      <td>D303002</td>\n",
       "      <td>NaN</td>\n",
       "    </tr>\n",
       "    <tr>\n",
       "      <th>4</th>\n",
       "      <td>Campus/district chilled water and steam systems</td>\n",
       "      <td>D304006</td>\n",
       "      <td>Transition buildings from steam or medium temp...</td>\n",
       "      <td>NaN</td>\n",
       "      <td>Conversion to a low temperature piping network...</td>\n",
       "    </tr>\n",
       "    <tr>\n",
       "      <th>5</th>\n",
       "      <td>Campus/district chilled water and steam systems</td>\n",
       "      <td>D304002</td>\n",
       "      <td>Transition buildings from steam or medium temp...</td>\n",
       "      <td>NaN</td>\n",
       "      <td>Conversion to a low temperature piping network...</td>\n",
       "    </tr>\n",
       "    <tr>\n",
       "      <th>6</th>\n",
       "      <td>Campus/district chilled water and steam systems</td>\n",
       "      <td>D303001</td>\n",
       "      <td>Transition buildings from steam or medium temp...</td>\n",
       "      <td>NaN</td>\n",
       "      <td>Conversion to a low temperature piping network...</td>\n",
       "    </tr>\n",
       "    <tr>\n",
       "      <th>7</th>\n",
       "      <td>Campus/district chilled water and steam systems</td>\n",
       "      <td>D301003</td>\n",
       "      <td>Transition buildings from steam or medium temp...</td>\n",
       "      <td>NaN</td>\n",
       "      <td>Conversion to a low temperature piping network...</td>\n",
       "    </tr>\n",
       "    <tr>\n",
       "      <th>8</th>\n",
       "      <td>Packaged terminal air conditioner (PTAC)</td>\n",
       "      <td>D305006</td>\n",
       "      <td>Replace PTACs with packaged terminal heat pump...</td>\n",
       "      <td>D303002</td>\n",
       "      <td>Very limited availability of cold-climate PTHP...</td>\n",
       "    </tr>\n",
       "    <tr>\n",
       "      <th>9</th>\n",
       "      <td>Gas-fired unit heaters, radiant heaters, and o...</td>\n",
       "      <td>D305002</td>\n",
       "      <td>Replace with electric resistance and electric ...</td>\n",
       "      <td>D303002</td>\n",
       "      <td>NaN</td>\n",
       "    </tr>\n",
       "    <tr>\n",
       "      <th>10</th>\n",
       "      <td>Ventilation makeup air units</td>\n",
       "      <td>D304090</td>\n",
       "      <td>Replace with heat pump and other electric make...</td>\n",
       "      <td>D303002</td>\n",
       "      <td>Rate of make-up air cubic feet per minute (cfm...</td>\n",
       "    </tr>\n",
       "    <tr>\n",
       "      <th>11</th>\n",
       "      <td>Combined Heat and Power (CHP)</td>\n",
       "      <td>D302090</td>\n",
       "      <td>Replace gas-fired CHP systems at large buildin...</td>\n",
       "      <td>D303002</td>\n",
       "      <td>Few case studies and analyses have been done t...</td>\n",
       "    </tr>\n",
       "  </tbody>\n",
       "</table>\n",
       "</div>"
      ],
      "text/plain": [
       "                                  Pre-existing System preexisting-uniformat  \\\n",
       "0               Gas-fired packaged rooftop unit (RTU)               D305006   \n",
       "1                                        Gas furnaces               D302002   \n",
       "2   Low temperature boilers (110F to 140F), Medium...               D302001   \n",
       "3   Air Handling Units (AHUs) with reheat or perim...               D304008   \n",
       "4    Campus/district chilled water and steam systems                D304006   \n",
       "5    Campus/district chilled water and steam systems                D304002   \n",
       "6    Campus/district chilled water and steam systems                D303001   \n",
       "7    Campus/district chilled water and steam systems                D301003   \n",
       "8           Packaged terminal air conditioner (PTAC)                D305006   \n",
       "9   Gas-fired unit heaters, radiant heaters, and o...               D305002   \n",
       "10                      Ventilation makeup air units                D304090   \n",
       "11                     Combined Heat and Power (CHP)                D302090   \n",
       "\n",
       "                    Federal BPS Prescriptive Measures prescriptive-uniformat  \\\n",
       "0   Replace gas-fired packaged RTU systems with ai...                D303002   \n",
       "1   Replace split-system ACs and gas furnaces with...                D303002   \n",
       "2   Conversion to air-to-water and water-to-water ...                D303002   \n",
       "3   Assess current heating source within AHU or va...                D303002   \n",
       "4   Transition buildings from steam or medium temp...                    NaN   \n",
       "5   Transition buildings from steam or medium temp...                    NaN   \n",
       "6   Transition buildings from steam or medium temp...                    NaN   \n",
       "7   Transition buildings from steam or medium temp...                    NaN   \n",
       "8   Replace PTACs with packaged terminal heat pump...                D303002   \n",
       "9   Replace with electric resistance and electric ...                D303002   \n",
       "10  Replace with heat pump and other electric make...                D303002   \n",
       "11  Replace gas-fired CHP systems at large buildin...                D303002   \n",
       "\n",
       "                                       Considerations  \n",
       "0   Some heat pump models report heating capacity ...  \n",
       "1    Split-system heat pumps are available for bot...  \n",
       "2   Comparisons of size, weight, and installation ...  \n",
       "3                                                 NaN  \n",
       "4   Conversion to a low temperature piping network...  \n",
       "5   Conversion to a low temperature piping network...  \n",
       "6   Conversion to a low temperature piping network...  \n",
       "7   Conversion to a low temperature piping network...  \n",
       "8   Very limited availability of cold-climate PTHP...  \n",
       "9                                                 NaN  \n",
       "10  Rate of make-up air cubic feet per minute (cfm...  \n",
       "11  Few case studies and analyses have been done t...  "
      ]
     },
     "execution_count": 14,
     "metadata": {},
     "output_type": "execute_result"
    }
   ],
   "source": [
    "df_BPS_A1"
   ]
  },
  {
   "cell_type": "code",
   "execution_count": 31,
   "id": "d615e2bb-76b2-4131-b933-de58b1876b20",
   "metadata": {},
   "outputs": [
    {
     "name": "stdout",
     "output_type": "stream",
     "text": [
      "uniformat_code: D302002\n"
     ]
    }
   ],
   "source": [
    "result = bps_a1_by_uniformat_code('D302002')"
   ]
  },
  {
   "cell_type": "code",
   "execution_count": 33,
   "id": "00a64baf-c789-4cd6-955b-7d97438e41ec",
   "metadata": {},
   "outputs": [
    {
     "data": {
      "text/plain": [
       "'[\\n    {\\n        \"Pre-existing System\": \"Gas furnaces\",\\n        \"preexisting-uniformat\": \"D302002\",\\n        \"Federal BPS Prescriptive Measures\": \"Replace split-system ACs and gas furnaces with ducted split-system heat pumps or ducted mini-split heat pumps. Gas furnaces may continue to be used for backup heating only if cold-climate heat pumps that function in heat pump mode to meet demand in colder climate zones are not commercialavailable. The primary system must be electrified.  \",\\n        \"prescriptive-uniformat\": \"D303002\",\\n        \"Considerations\": \" Split-system heat pumps are available for both residential (1-5 ton) and light commercial (6-20 ton) capacities although cold-climate certifications are only available for residential-style models. Cold-climate heat pump solutions are available for residential capacities (up to 5 tons) and can operate down to -15\\\\u00b0F outdoor air temperature.   Larger furnaces/air handling units (AHUs) may not have direct heat pump equivalents. Heat pump replacement of larger capacity furnaces/AHUs may have space constraints (i.e., mechanical closet size). \"\\n    }\\n]'"
      ]
     },
     "execution_count": 33,
     "metadata": {},
     "output_type": "execute_result"
    }
   ],
   "source": [
    "result"
   ]
  },
  {
   "cell_type": "code",
   "execution_count": 32,
   "id": "aa633977-b78f-4fc4-9259-2f1648f21b26",
   "metadata": {},
   "outputs": [
    {
     "data": {
      "text/plain": [
       "1118"
      ]
     },
     "execution_count": 32,
     "metadata": {},
     "output_type": "execute_result"
    }
   ],
   "source": [
    "len(result)"
   ]
  },
  {
   "cell_type": "code",
   "execution_count": 17,
   "id": "7d356a07-8d93-40d7-9049-2c6354ab3f58",
   "metadata": {},
   "outputs": [],
   "source": [
    "def bps_a2_by_uniformat_code(uniformat_code):\n",
    "    \"\"\"\n",
    "    Filters a DataFrame for entries matching a specific UniFormat code.\n",
    "    \n",
    "    This function takes a UniFormat code as input, validates its presence in the DataFrame,\n",
    "    and returns a JSON string containing all records from the DataFrame where the 'preexisting-uniformat'\n",
    "    column matches the provided UniFormat code. The output JSON is formatted with indentation for readability.\n",
    "    \n",
    "    Parameters:\n",
    "    uniformat_code (str): The UniFormat code to filter the DataFrame by.\n",
    "    \n",
    "    Returns:\n",
    "    str: A JSON formatted string containing the filtered records. If the specified column\n",
    "    is not found, or if any other error occurs, it returns a JSON string with an error message.\n",
    "    \"\"\"\n",
    "    try:\n",
    "        # Ensure the input is a string and strip whitespace\n",
    "        uniformat_code = str(uniformat_code).strip()\n",
    "        print(\"uniformat_code:\", uniformat_code)\n",
    "        # Check if 'preexisting-uniformat' column exists\n",
    "        if 'preexisting-uniformat' not in df_BPS_A2.columns:\n",
    "            return json.dumps({\"error\": \"Column 'uniformat code' not found in DataFrame.\"}, indent=4)\n",
    "        \n",
    "        # Strip whitespace from 'uniformat code' column for accurate comparison\n",
    "        df_BPS_A2['preexisting-uniformat'] = df_BPS_A2['preexisting-uniformat'].str.strip()\n",
    "        \n",
    "        # Filter the DataFrame where 'uniformat code' column matches the input value\n",
    "        filtered_df = df_BPS_A2[df_BPS_A2['preexisting-uniformat'] == uniformat_code].copy()\n",
    "        \n",
    "        # Convert the filtered DataFrame to JSON with indentation for better readability\n",
    "        result_json = json.loads(filtered_df.to_json(orient='records'))\n",
    "        result_pretty_json = json.dumps(result_json, indent=4)\n",
    "        \n",
    "        return result_pretty_json\n",
    "    except Exception as e:\n",
    "        return json.dumps({\"error\": str(e)}, indent=4) "
   ]
  },
  {
   "cell_type": "code",
   "execution_count": 18,
   "id": "83197bef-9363-44dd-b0bc-f3d0757e471e",
   "metadata": {},
   "outputs": [],
   "source": [
    "df_BPS_A2 = pd.read_csv(os.path.join(data_dir, 'Table_A2_Federal_BPS.csv'), encoding='ISO-8859-1')"
   ]
  },
  {
   "cell_type": "code",
   "execution_count": 19,
   "id": "f8e82613-8c68-4cda-8c56-604af1e29727",
   "metadata": {},
   "outputs": [
    {
     "data": {
      "text/html": [
       "<div>\n",
       "<style scoped>\n",
       "    .dataframe tbody tr th:only-of-type {\n",
       "        vertical-align: middle;\n",
       "    }\n",
       "\n",
       "    .dataframe tbody tr th {\n",
       "        vertical-align: top;\n",
       "    }\n",
       "\n",
       "    .dataframe thead th {\n",
       "        text-align: right;\n",
       "    }\n",
       "</style>\n",
       "<table border=\"1\" class=\"dataframe\">\n",
       "  <thead>\n",
       "    <tr style=\"text-align: right;\">\n",
       "      <th></th>\n",
       "      <th>Pre-existing System</th>\n",
       "      <th>preexisting-uniformat</th>\n",
       "      <th>Federal BPS Prescriptive Measures</th>\n",
       "      <th>prescriptive-uniformat</th>\n",
       "      <th>Considerations</th>\n",
       "    </tr>\n",
       "  </thead>\n",
       "  <tbody>\n",
       "    <tr>\n",
       "      <th>0</th>\n",
       "      <td>Gas hot water boiler for central domestic hot ...</td>\n",
       "      <td>D202003</td>\n",
       "      <td>Heat pump water heater (HPWH) depending on tem...</td>\n",
       "      <td>D303002</td>\n",
       "      <td>Commercial buildings with high hot water loads...</td>\n",
       "    </tr>\n",
       "    <tr>\n",
       "      <th>1</th>\n",
       "      <td>Gas resistance water heater for smaller DHW ap...</td>\n",
       "      <td>D202003</td>\n",
       "      <td>HPWH can suffice for most lightcommercial appl...</td>\n",
       "      <td>D303002</td>\n",
       "      <td>Residential and light commercial HPWHs are ava...</td>\n",
       "    </tr>\n",
       "    <tr>\n",
       "      <th>2</th>\n",
       "      <td>Small electric storage/point-of use systems</td>\n",
       "      <td>D202003</td>\n",
       "      <td>Electric models required. Small point of-use w...</td>\n",
       "      <td>D303002</td>\n",
       "      <td>Unlikely to convert to heat pumps due to techn...</td>\n",
       "    </tr>\n",
       "  </tbody>\n",
       "</table>\n",
       "</div>"
      ],
      "text/plain": [
       "                                 Pre-existing System preexisting-uniformat  \\\n",
       "0  Gas hot water boiler for central domestic hot ...               D202003   \n",
       "1  Gas resistance water heater for smaller DHW ap...               D202003   \n",
       "2        Small electric storage/point-of use systems               D202003   \n",
       "\n",
       "                   Federal BPS Prescriptive Measures prescriptive-uniformat  \\\n",
       "0  Heat pump water heater (HPWH) depending on tem...                D303002   \n",
       "1  HPWH can suffice for most lightcommercial appl...                D303002   \n",
       "2  Electric models required. Small point of-use w...                D303002   \n",
       "\n",
       "                                      Considerations  \n",
       "0  Commercial buildings with high hot water loads...  \n",
       "1  Residential and light commercial HPWHs are ava...  \n",
       "2  Unlikely to convert to heat pumps due to techn...  "
      ]
     },
     "execution_count": 19,
     "metadata": {},
     "output_type": "execute_result"
    }
   ],
   "source": [
    "df_BPS_A2"
   ]
  },
  {
   "cell_type": "code",
   "execution_count": 34,
   "id": "123b802b-d3f2-4adf-91de-5a9334e53447",
   "metadata": {},
   "outputs": [
    {
     "name": "stdout",
     "output_type": "stream",
     "text": [
      "uniformat_code: D202003\n"
     ]
    }
   ],
   "source": [
    "temp = bps_a2_by_uniformat_code('D202003')"
   ]
  },
  {
   "cell_type": "code",
   "execution_count": 35,
   "id": "7b3b6204-fe36-467c-a06f-de0fd77538f7",
   "metadata": {},
   "outputs": [
    {
     "data": {
      "text/plain": [
       "2041"
      ]
     },
     "execution_count": 35,
     "metadata": {},
     "output_type": "execute_result"
    }
   ],
   "source": [
    "len(temp)"
   ]
  },
  {
   "cell_type": "code",
   "execution_count": null,
   "id": "71a69241-4308-402e-977e-056fe49c4648",
   "metadata": {},
   "outputs": [],
   "source": []
  }
 ],
 "metadata": {
  "kernelspec": {
   "display_name": "Python 3 (ipykernel)",
   "language": "python",
   "name": "python3"
  },
  "language_info": {
   "codemirror_mode": {
    "name": "ipython",
    "version": 3
   },
   "file_extension": ".py",
   "mimetype": "text/x-python",
   "name": "python",
   "nbconvert_exporter": "python",
   "pygments_lexer": "ipython3",
   "version": "3.10.10"
  }
 },
 "nbformat": 4,
 "nbformat_minor": 5
}
